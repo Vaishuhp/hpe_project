{
 "cells": [
  {
   "cell_type": "code",
   "execution_count": 2,
   "id": "5e158070",
   "metadata": {},
   "outputs": [],
   "source": [
    "import pandas as pd"
   ]
  },
  {
   "cell_type": "code",
   "execution_count": 3,
   "id": "84ae2d32",
   "metadata": {},
   "outputs": [],
   "source": [
    "# load the dataset\n",
    "data = pd.read_csv('feature_seln_new.csv', parse_dates=['START_TIME'], index_col='START_TIME')\n",
    "df=data[data.columns[1:]]"
   ]
  },
  {
   "cell_type": "code",
   "execution_count": 10,
   "id": "6001e199",
   "metadata": {},
   "outputs": [],
   "source": [
    "import numpy as np\n",
    "import matplotlib.pyplot as plt\n",
    "\n",
    "plt.rcParams['figure.figsize'] = [20, 5]\n",
    "\n",
    "'''lamda_list = [40,41,42,43,44,45,46,47] \n",
    "window_size_list = [384,408,432,456,480,504,528,552]'''\n",
    "lamda_list = [40,41,42,43,44,45,46,47] \n",
    "window_size_list = [24,168,672,1344]\n",
    "no_col = len(df.columns)\n",
    "no_rows = df.shape[0]\n",
    "\n",
    "anomalies_array = np.zeros((len(lamda_list), len(window_size_list)))\n",
    "#two_array = np.full((len(lamda_list), len(window_size_list)), 2)\n",
    "\n",
    "for i in range(0,len(lamda_list)):\n",
    "    lamda=lamda_list[i]\n",
    "    for j in range(0,len(window_size_list)):\n",
    "        window_size=window_size_list[j]\n",
    "        col_anomalies=0\n",
    "        for col in df.columns:\n",
    "            rolling_mean = df[col].rolling(window=window_size).mean()\n",
    "            std = np.std(rolling_mean)\n",
    "            threshold = lamda * std\n",
    "            '''plt.plot(df.index, df[col], label='Original Data')\n",
    "            plt.plot(rolling_mean.index, rolling_mean, label='Moving Average')\n",
    "            plt.legend(loc='best')'''\n",
    "            upper_limit = rolling_mean + threshold\n",
    "            lower_limit = rolling_mean - threshold\n",
    "            anomalies = (df[col].abs() > upper_limit) | (df[col].abs() < lower_limit)\n",
    "            num_anomalies = anomalies.sum()\n",
    "            col_anomalies=col_anomalies+num_anomalies\n",
    "            '''top_n_outliers = df.loc[anomalies, col].sort_values(ascending=False).head(top)\n",
    "            plt.scatter(top_n_outliers.index, top_n_outliers.values, color='red', label='Anomalies')\n",
    "            plt.title(f\"{col}, lambda={lamda}, window_size={window_size}\")\n",
    "            plt.xlabel('Date')\n",
    "            plt.ylabel('Value')\n",
    "            #col_name = col.replace(\"/\", \" divided by \")\n",
    "            #plt.savefig(f\"{col_name}_moving_avg_lamda_{lamda}_window_{window_size}.png\")\n",
    "            plt.show()'''\n",
    "        avg_anomalies=col_anomalies/no_col\n",
    "        anomalies_array[i][j] = (avg_anomalies*100)/no_rows\n",
    "        \n",
    "        \n"
   ]
  },
  {
   "cell_type": "code",
   "execution_count": 11,
   "id": "64ab60a6",
   "metadata": {},
   "outputs": [
    {
     "name": "stdout",
     "output_type": "stream",
     "text": [
      "[[4.96315024 4.94910437 4.44097429 3.6114416 ]\n",
      " [4.93918964 4.93753718 4.41701368 3.58995968]\n",
      " [4.93588472 4.9292749  4.40379404 3.56517285]\n",
      " [4.92844867 4.92266508 4.38809571 3.54121224]\n",
      " [4.92514376 4.91522903 4.37818098 3.52303523]\n",
      " [4.92101262 4.90614052 4.3699187  3.49907462]\n",
      " [4.91688149 4.8995307  4.35669905 3.48420252]\n",
      " [4.91522903 4.89457334 4.349263   3.47676647]]\n"
     ]
    }
   ],
   "source": [
    "print(anomalies_array)"
   ]
  },
  {
   "cell_type": "code",
   "execution_count": null,
   "id": "1a274a4d",
   "metadata": {},
   "outputs": [],
   "source": []
  }
 ],
 "metadata": {
  "kernelspec": {
   "display_name": "Python 3",
   "language": "python",
   "name": "python3"
  },
  "language_info": {
   "codemirror_mode": {
    "name": "ipython",
    "version": 3
   },
   "file_extension": ".py",
   "mimetype": "text/x-python",
   "name": "python",
   "nbconvert_exporter": "python",
   "pygments_lexer": "ipython3",
   "version": "3.8.8"
  }
 },
 "nbformat": 4,
 "nbformat_minor": 5
}
